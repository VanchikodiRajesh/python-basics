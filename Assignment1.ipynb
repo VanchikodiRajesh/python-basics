{
 "cells": [
  {
   "cell_type": "code",
   "execution_count": 1,
   "id": "3a604dc9",
   "metadata": {},
   "outputs": [
    {
     "name": "stdout",
     "output_type": "stream",
     "text": [
      "HOPE AI\n"
     ]
    }
   ],
   "source": [
    "print(\"HOPE AI\")\n"
   ]
  },
  {
   "cell_type": "code",
   "execution_count": null,
   "id": "c320fed3",
   "metadata": {},
   "outputs": [],
   "source": [
    "SName=input(\"enter your institute Name\")\n",
    "print (SName)\n",
    "\n"
   ]
  },
  {
   "cell_type": "code",
   "execution_count": 7,
   "id": "684baba7",
   "metadata": {},
   "outputs": [
    {
     "name": "stdout",
     "output_type": "stream",
     "text": [
      "enter your institute Nameihs\n",
      "ihs\n"
     ]
    }
   ],
   "source": [
    "Name=input(\"enter your institute Name\")\n",
    "print(Name)\n"
   ]
  },
  {
   "cell_type": "code",
   "execution_count": 12,
   "id": "d15e2041",
   "metadata": {},
   "outputs": [
    {
     "name": "stdout",
     "output_type": "stream",
     "text": [
      "enter your institute NameHari\n",
      "enter your age25\n",
      "enter your school NameIHS\n",
      "enter your degreeMBA\n",
      "Name = Hari\n",
      "Age = 25\n",
      "School = IHS\n",
      "Degree = MBA\n"
     ]
    }
   ],
   "source": [
    "Name=input(\"enter your institute Name\")\n",
    "Age=int(input(\"enter your age\"))\n",
    "School=input(\"enter your school Name\")\n",
    "Degree=input(\"enter your degree\")\n",
    "\n",
    "print(\"Name =\",Name)\n",
    "print(\"Age =\",Age)\n",
    "print(\"School =\",School)\n",
    "print(\"Degree =\",Degree)"
   ]
  },
  {
   "cell_type": "code",
   "execution_count": 13,
   "id": "0c6c3ae6",
   "metadata": {},
   "outputs": [
    {
     "name": "stdout",
     "output_type": "stream",
     "text": [
      "add =  77\n"
     ]
    }
   ],
   "source": [
    "#addition\n",
    "a=43\n",
    "b=34\n",
    "add=a+b\n",
    "print(\"add = \",add)"
   ]
  },
  {
   "cell_type": "code",
   "execution_count": 15,
   "id": "4b60205b",
   "metadata": {},
   "outputs": [
    {
     "name": "stdout",
     "output_type": "stream",
     "text": [
      "Subtraction =  9\n"
     ]
    }
   ],
   "source": [
    "#Subtraction\n",
    "a=43\n",
    "b=34\n",
    "subtraction=a-b\n",
    "print(\"Subtraction = \",subtraction)"
   ]
  },
  {
   "cell_type": "code",
   "execution_count": 14,
   "id": "6773d6e4",
   "metadata": {},
   "outputs": [
    {
     "name": "stdout",
     "output_type": "stream",
     "text": [
      "Multiplication=  1462\n"
     ]
    }
   ],
   "source": [
    "#Multiplication\n",
    "a=43\n",
    "b=34\n",
    "Multiplication=a*b\n",
    "print(\"Multiplication= \",Multiplication)\n"
   ]
  },
  {
   "cell_type": "code",
   "execution_count": 22,
   "id": "3b2cf87f",
   "metadata": {},
   "outputs": [
    {
     "name": "stdout",
     "output_type": "stream",
     "text": [
      "Division =  2.4516129032258065\n"
     ]
    }
   ],
   "source": [
    "#Division\n",
    "a=76\n",
    "b=31\n",
    "division=a/b\n",
    "print(\"Division = \",division)\n",
    "\n",
    "\n"
   ]
  },
  {
   "cell_type": "code",
   "execution_count": 23,
   "id": "7c755e89",
   "metadata": {},
   "outputs": [
    {
     "name": "stdout",
     "output_type": "stream",
     "text": [
      "Floor Division  =  2\n"
     ]
    }
   ],
   "source": [
    "\n",
    "# Floor Division\n",
    "a=76\n",
    "b=31\n",
    "division=a//b\n",
    "print(\"Floor Division  = \",division)\n"
   ]
  },
  {
   "cell_type": "code",
   "execution_count": 24,
   "id": "b4324632",
   "metadata": {},
   "outputs": [
    {
     "name": "stdout",
     "output_type": "stream",
     "text": [
      "Module =  14\n"
     ]
    }
   ],
   "source": [
    "# Module\n",
    "a=76\n",
    "b=31\n",
    "module=a%b\n",
    "print(\"Module = \",module)\n"
   ]
  },
  {
   "cell_type": "code",
   "execution_count": 27,
   "id": "51055738",
   "metadata": {},
   "outputs": [
    {
     "name": "stdout",
     "output_type": "stream",
     "text": [
      "Power  =  256\n"
     ]
    }
   ],
   "source": [
    "# Power\n",
    "a=4\n",
    "b=4\n",
    "power=a**b\n",
    "print(\"Power  = \",power)\n",
    "\n"
   ]
  },
  {
   "cell_type": "code",
   "execution_count": null,
   "id": "f4fdcc83",
   "metadata": {},
   "outputs": [],
   "source": []
  }
 ],
 "metadata": {
  "kernelspec": {
   "display_name": "Python 3 (ipykernel)",
   "language": "python",
   "name": "python3"
  },
  "language_info": {
   "codemirror_mode": {
    "name": "ipython",
    "version": 3
   },
   "file_extension": ".py",
   "mimetype": "text/x-python",
   "name": "python",
   "nbconvert_exporter": "python",
   "pygments_lexer": "ipython3",
   "version": "3.11.5"
  }
 },
 "nbformat": 4,
 "nbformat_minor": 5
}
