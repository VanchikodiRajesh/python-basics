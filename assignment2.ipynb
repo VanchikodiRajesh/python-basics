{
 "cells": [
  {
   "cell_type": "code",
   "execution_count": 1,
   "id": "7c58151c",
   "metadata": {},
   "outputs": [
    {
     "name": "stdout",
     "output_type": "stream",
     "text": [
      "0\n",
      "1\n",
      "2\n",
      "3\n",
      "4\n",
      "5\n",
      "6\n",
      "7\n",
      "8\n",
      "9\n",
      "10\n",
      "11\n",
      "12\n",
      "13\n",
      "14\n",
      "15\n",
      "16\n",
      "17\n",
      "18\n",
      "19\n"
     ]
    }
   ],
   "source": [
    "#print 0------20 by usig range\n",
    "\n",
    "for  num in range(0,20):\n",
    "    print(num)"
   ]
  },
  {
   "cell_type": "code",
   "execution_count": 2,
   "id": "f4630af0",
   "metadata": {},
   "outputs": [
    {
     "name": "stdout",
     "output_type": "stream",
     "text": [
      "10\n",
      "11\n",
      "12\n",
      "13\n",
      "14\n",
      "15\n",
      "16\n",
      "17\n",
      "18\n",
      "19\n"
     ]
    }
   ],
   "source": [
    "#print 10------20 by usig range\n",
    "\n",
    "for  num in range(10,20):\n",
    "    print(num)"
   ]
  },
  {
   "cell_type": "code",
   "execution_count": 11,
   "id": "740a84a6",
   "metadata": {},
   "outputs": [
    {
     "name": "stdout",
     "output_type": "stream",
     "text": [
      " Number of item in the list =  7\n"
     ]
    }
   ],
   "source": [
    "#print no.of. items in the list\n",
    "x=[10,20,14,55,43,87,76]\n",
    "a=len(x)\n",
    "print (\" Number of item in the list = \",a)"
   ]
  },
  {
   "cell_type": "code",
   "execution_count": 28,
   "id": "fa55c834",
   "metadata": {},
   "outputs": [
    {
     "name": "stdout",
     "output_type": "stream",
     "text": [
      "A\n",
      "R\n",
      "T\n",
      "I\n",
      "F\n",
      "I\n",
      "C\n",
      "A\n",
      "L\n",
      "I\n",
      "N\n",
      "T\n",
      "E\n",
      "L\n",
      "L\n",
      "I\n",
      "G\n",
      "E\n",
      "N\n",
      "C\n",
      "E\n"
     ]
    }
   ],
   "source": [
    "name=['A','R','T','I','F','I','C','A','L','I','N','T','E','L','L','I','G','E','N','C','E']\n",
    "for list in name:\n",
    "    print(list)\n"
   ]
  },
  {
   "cell_type": "code",
   "execution_count": 2,
   "id": "3a8acc7e",
   "metadata": {},
   "outputs": [
    {
     "name": "stdout",
     "output_type": "stream",
     "text": [
      "enter you namevanchi\n",
      "enter your age40\n",
      "enter your proffessionhome maker\n",
      "Name =  vanchi\n",
      "age =  40\n",
      "profession home maker\n"
     ]
    }
   ],
   "source": [
    "Name=input(\"enter you name\")\n",
    "age=int(input(\"enter your age\"))\n",
    "profeff=input(\"enter your proffession\")\n",
    "print(\"Name = \",Name)\n",
    "print(\"age = \",age)\n",
    "print(\"profession = \",profeff)"
   ]
  },
  {
   "cell_type": "code",
   "execution_count": 12,
   "id": "ee20429e",
   "metadata": {},
   "outputs": [
    {
     "name": "stdout",
     "output_type": "stream",
     "text": [
      "odd Number\n",
      "19\n",
      "25\n",
      "1\n"
     ]
    }
   ],
   "source": [
    "#odd number\n",
    "x=[10,20,16,19,25,1,276,188]\n",
    "print(\"odd Number\")\n",
    "for y in x:\n",
    "    if(y%2!=0):\n",
    "      print(y)\n",
    "    "
   ]
  },
  {
   "cell_type": "code",
   "execution_count": 10,
   "id": "4111aba2",
   "metadata": {},
   "outputs": [
    {
     "name": "stdout",
     "output_type": "stream",
     "text": [
      "even number\n",
      "10\n",
      "20\n",
      "16\n",
      "276\n",
      "188\n"
     ]
    }
   ],
   "source": [
    "#Evevn Number\n",
    "x=[10,20,16,19,25,1,276,188]\n",
    "print(\"even number\")\n",
    "for y in x:\n",
    "    if(y%2 ==0):\n",
    "      print(y)"
   ]
  },
  {
   "cell_type": "code",
   "execution_count": 1,
   "id": "cc8050e6",
   "metadata": {},
   "outputs": [
    {
     "name": "stdout",
     "output_type": "stream",
     "text": [
      "('1', 'welcome', '2', 'Hope AI')\n"
     ]
    }
   ],
   "source": [
    "#print the mixed datatype\n",
    "tuple=(\"1\",\"welcome\",\"2\",\"Hope AI\")\n",
    "print(tuple)"
   ]
  },
  {
   "cell_type": "code",
   "execution_count": null,
   "id": "18ded1d8",
   "metadata": {},
   "outputs": [],
   "source": []
  }
 ],
 "metadata": {
  "kernelspec": {
   "display_name": "Python 3 (ipykernel)",
   "language": "python",
   "name": "python3"
  },
  "language_info": {
   "codemirror_mode": {
    "name": "ipython",
    "version": 3
   },
   "file_extension": ".py",
   "mimetype": "text/x-python",
   "name": "python",
   "nbconvert_exporter": "python",
   "pygments_lexer": "ipython3",
   "version": "3.11.5"
  }
 },
 "nbformat": 4,
 "nbformat_minor": 5
}
