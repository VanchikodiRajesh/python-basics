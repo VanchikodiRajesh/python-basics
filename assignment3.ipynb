{
 "cells": [
  {
   "cell_type": "code",
   "execution_count": 3,
   "id": "569c4329",
   "metadata": {},
   "outputs": [
    {
     "name": "stdout",
     "output_type": "stream",
     "text": [
      "enter the number10\n",
      "correct\n"
     ]
    }
   ],
   "source": [
    "#print 'correct' if i=10\n",
    "i=int(input(\"enter the number\"))\n",
    "if i==10:\n",
    "    print (\"correct\")\n",
    "else:\n",
    "    print (\"not correct\")\n",
    "    "
   ]
  },
  {
   "cell_type": "code",
   "execution_count": 13,
   "id": "fa34019f",
   "metadata": {},
   "outputs": [
    {
     "name": "stdout",
     "output_type": "stream",
     "text": [
      "enter the passwordHope@123\n",
      "True\n"
     ]
    }
   ],
   "source": [
    "txt=\"Hope@123\"\n",
    "txt1=input (\"enter the password\")\n",
    "print(txt1 in txt)\n"
   ]
  },
  {
   "cell_type": "code",
   "execution_count": 20,
   "id": "bd07e1f0",
   "metadata": {},
   "outputs": [
    {
     "name": "stdout",
     "output_type": "stream",
     "text": [
      "enter the number67\n",
      "senior citizen\n"
     ]
    }
   ],
   "source": [
    "i=int(input(\"enter the number\"))\n",
    "if(i<18):\n",
    "    print (\"child\")\n",
    "elif(i>=18 and i<40):\n",
    "    print (\"adult\")\n",
    "elif(i>=40 and i<60):\n",
    "    print (\"citizen\")\n",
    "elif(i>=60):\n",
    "    print (\"senior citizen\")   \n",
    "    \n",
    "    "
   ]
  },
  {
   "cell_type": "code",
   "execution_count": 22,
   "id": "1b5d9bf6",
   "metadata": {},
   "outputs": [
    {
     "name": "stdout",
     "output_type": "stream",
     "text": [
      "enter the number-6\n",
      "negtive\n"
     ]
    }
   ],
   "source": [
    "number=int(input(\"enter the number\"))\n",
    "if(number>0):\n",
    "    print(\"positive\")\n",
    "else:\n",
    "    print(\"negtive\")"
   ]
  },
  {
   "cell_type": "code",
   "execution_count": 24,
   "id": "a3d09f62",
   "metadata": {},
   "outputs": [
    {
     "name": "stdout",
     "output_type": "stream",
     "text": [
      "enter the number65\n",
      "65 is divisible  by 5\n"
     ]
    }
   ],
   "source": [
    "number=int(input(\"enter the number\"))\n",
    "if(number %5==0):\n",
    "    print(number,\"is divisible  by 5\")\n",
    "else:\n",
    "    print(number,\"is not divisible by 5\")\n",
    "    "
   ]
  },
  {
   "cell_type": "code",
   "execution_count": null,
   "id": "410e217d",
   "metadata": {},
   "outputs": [],
   "source": []
  }
 ],
 "metadata": {
  "kernelspec": {
   "display_name": "Python 3 (ipykernel)",
   "language": "python",
   "name": "python3"
  },
  "language_info": {
   "codemirror_mode": {
    "name": "ipython",
    "version": 3
   },
   "file_extension": ".py",
   "mimetype": "text/x-python",
   "name": "python",
   "nbconvert_exporter": "python",
   "pygments_lexer": "ipython3",
   "version": "3.11.5"
  }
 },
 "nbformat": 4,
 "nbformat_minor": 5
}
